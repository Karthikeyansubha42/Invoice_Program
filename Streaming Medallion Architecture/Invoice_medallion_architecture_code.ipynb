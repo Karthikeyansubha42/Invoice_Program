{
 "cells": [
  {
   "cell_type": "code",
   "execution_count": 0,
   "metadata": {
    "application/vnd.databricks.v1+cell": {
     "cellMetadata": {
      "byteLimit": 2048000,
      "rowLimit": 10000
     },
     "inputWidgets": {},
     "nuid": "101eb111-5b12-40b7-bb4a-2027dd8a72c7",
     "showTitle": false,
     "tableResultSettingsMap": {},
     "title": ""
    }
   },
   "outputs": [],
   "source": [
    "from pyspark.sql.functions import expr\n",
    "\n",
    "class InvoiceBronze:\n",
    "\n",
    "    def __init__(self):\n",
    "        self.base_dir = \"/FileStore/invoices\"\n",
    "        self.schema = \"\"\"InvoiceNumber string,\n",
    "                         CreatedTime bigint,\n",
    "                         StoreID string,\n",
    "                         PosID string,\n",
    "                         CashierID string,\n",
    "                         CustomerType string,\n",
    "                         CustomerCardNo string,\n",
    "                         TotalAmount double,\n",
    "                         NumberOfItems int,\n",
    "                         PaymentMethod string,\n",
    "                         TaxableAmount double,\n",
    "                         CGST double,\n",
    "                         SGST double,\n",
    "                         CESS double,\n",
    "                         DeliveryType string,\n",
    "                         DeliveryAddress struct <\n",
    "                                                AddressLine string,\n",
    "                                                City string,\n",
    "                                                State string,\n",
    "                                                PinCode string,\n",
    "                                                ContactNumber string\n",
    "                                                >,\n",
    "                         InvoiceLineItems array <\n",
    "                                                struct <\n",
    "                                                        ItemCode string,\n",
    "                                                        ItemDescription string,\n",
    "                                                        ItemPrice double,\n",
    "                                                        ItemQty int,\n",
    "                                                        TotalValue double\n",
    "                                                        >\n",
    "                                                >\"\"\"\n",
    "    \n",
    "    def ingest_data(self):\n",
    "        df = spark.readStream.format('json')\\\n",
    "                            .schema(self.schema)\\\n",
    "                            .option('cleanSource', 'archive')\\\n",
    "                            .option('sourceArchiveDir', f'{self.base_dir}/data/archive')\\\n",
    "                            .load(f'{self.base_dir}/data/bronze')\n",
    "        return df\n",
    "\n",
    "    def sink_data(self, df):\n",
    "        return df.writeStream.format('delta')\\\n",
    "                                    .queryName('Bronze_Squery')\\\n",
    "                                    .outputMode('append')\\\n",
    "                                    .option('checkpointLocation', f'{self.base_dir}/checkpoint_location/bronze')\\\n",
    "                                    .option('path', f'{self.base_dir}/data/silver')\\\n",
    "                                    .toTable('invoice_silver_table')\n",
    "    def launcher(self):\n",
    "        print('Bronze ingestion stream started...', end='')\n",
    "        df = self.ingest_data()\n",
    "        BSquery = self.sink_data(df)\n",
    "        print('Done.')\n",
    "        return BSquery\n",
    "\n",
    "        \n"
   ]
  },
  {
   "cell_type": "code",
   "execution_count": 0,
   "metadata": {
    "application/vnd.databricks.v1+cell": {
     "cellMetadata": {
      "byteLimit": 2048000,
      "rowLimit": 10000
     },
     "inputWidgets": {},
     "nuid": "595cb774-7bf4-4cb7-9049-6e4fe79707a4",
     "showTitle": false,
     "tableResultSettingsMap": {},
     "title": ""
    }
   },
   "outputs": [],
   "source": [
    "class InvoiceSilver:\n",
    "\n",
    "    def __init__(self):\n",
    "        self.base_dir = \"/FileStore/invoices\"\n",
    "    \n",
    "    def ingest_data(self):\n",
    "        df = spark.readStream.table('invoice_silver_table')\n",
    "        return df\n",
    "    \n",
    "    def transformation(self, df):\n",
    "        explode_df = df.selectExpr(\"InvoiceNumber\", \"CreatedTime\", \"StoreID\", \"PosID\", \"CashierID\", \"CustomerType\", \"CustomerCardNo\", \"TotalAmount\", \"NumberOfItems\", \"PaymentMethod\", \"TaxableAmount\", \"CGST\", \"SGST\", \"CESS\",\"DeliveryType\", \"DeliveryAddress.AddressLine\", \"DeliveryAddress.City\", \"DeliveryAddress.State\", \"DeliveryAddress.PinCode\", \"DeliveryAddress.ContactNumber\", \"explode(InvoiceLineItems) as InvoiceLineItems\")\n",
    "        \n",
    "        final_df = explode_df.selectExpr(\"InvoiceNumber\", \"CreatedTime\", \"StoreID\", \"PosID\", \"CashierID\", \"CustomerType\", \"CustomerCardNo\", \"TotalAmount\", \"NumberOfItems\", \"PaymentMethod\", \"TaxableAmount\", \"CGST\", \"SGST\", \"CESS\",\"DeliveryType\", \"AddressLine\", \"City\", \"State\", \"PinCode\", \"ContactNumber\", \"InvoiceLineItems.ItemCode\", \"InvoiceLineItems.ItemDescription\", \"InvoiceLineItems.ItemPrice\", \"InvoiceLineItems.ItemQty\", \"InvoiceLineItems.TotalValue\")\n",
    "        return final_df\n",
    "\n",
    "    def sink_data(self, df):\n",
    "        return df.writeStream.format('delta')\\\n",
    "                                    .queryName('Silver_Squery')\\\n",
    "                                    .outputMode('append')\\\n",
    "                                    .option('checkpointLocation', f'{self.base_dir}/checkpoint_location/silver')\\\n",
    "                                    .option ('path', f'{self.base_dir}/data/gold')\\\n",
    "                                    .toTable('invoice_gold_table')\n",
    "    def launcher(self):\n",
    "        print('Silver Transformation stream started...', end='')\n",
    "        df = self.ingest_data()\n",
    "        Transdf = self.transformation(df)\n",
    "        SSquery = self.sink_data(Transdf)\n",
    "        print('Done.')\n",
    "        return SSquery\n",
    "\n",
    "        \n"
   ]
  }
 ],
 "metadata": {
  "application/vnd.databricks.v1+notebook": {
   "computePreferences": null,
   "dashboards": [],
   "environmentMetadata": {
    "base_environment": "",
    "client": "1"
   },
   "language": "python",
   "notebookMetadata": {
    "pythonIndentUnit": 4
   },
   "notebookName": "Invoice_medallion_architecture_code",
   "widgets": {}
  }
 },
 "nbformat": 4,
 "nbformat_minor": 0
}
