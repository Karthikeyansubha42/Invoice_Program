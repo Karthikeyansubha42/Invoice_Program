{
 "cells": [
  {
   "cell_type": "code",
   "execution_count": 0,
   "metadata": {
    "application/vnd.databricks.v1+cell": {
     "cellMetadata": {
      "byteLimit": 2048000,
      "rowLimit": 10000
     },
     "inputWidgets": {},
     "nuid": "9e6f3d50-6984-4a30-8b85-6b88e7d91ca2",
     "showTitle": false,
     "tableResultSettingsMap": {},
     "title": ""
    }
   },
   "outputs": [],
   "source": [
    "%run ./Invoice_medallion_architecture_code"
   ]
  },
  {
   "cell_type": "code",
   "execution_count": 0,
   "metadata": {
    "application/vnd.databricks.v1+cell": {
     "cellMetadata": {
      "byteLimit": 2048000,
      "rowLimit": 10000
     },
     "inputWidgets": {},
     "nuid": "2de1f9a9-0d28-4f88-98a4-5865b0ffebf1",
     "showTitle": false,
     "tableResultSettingsMap": {},
     "title": ""
    }
   },
   "outputs": [],
   "source": [
    "import time\n",
    "\n",
    "class TestSuite:\n",
    "\n",
    "    def __init__(self):\n",
    "        self.invoice_dir = '/FileStore/invoices'\n",
    "    \n",
    "    def cleaning_dir(self):\n",
    "        print('Cleaning Directory...', end='')\n",
    "        spark.sql('drop table if exists invoice_bronze_table')\n",
    "        spark.sql('drop table if exists invoice_silver_table')\n",
    "        dbutils.fs.rm(f'{self.invoice_dir}/data', recurse=True)\n",
    "        dbutils.fs.rm(f'{self.invoice_dir}/checkpoint_location', recurse=True)\n",
    "        dbutils.fs.mkdirs(f'{self.invoice_dir}/data/bronze')\n",
    "        print('Done')\n",
    "    \n",
    "    def copying_files(self, file_name):\n",
    "        dbutils.fs.cp(f'{self.invoice_dir}/raw/{file_name}', f'{self.invoice_dir}/data/bronze', recurse=True)\n",
    "    \n",
    "    def assert_tables(self, table_name, expected_count):\n",
    "        val = spark.sql(f\"select count(*) from {table_name}\").collect()[0][0]\n",
    "        assert val==expected_count, f'Failed, returned value is {val}'\n",
    "        print('Passed.')\n",
    "    \n",
    "    def test_case(self):\n",
    "        self.cleaning_dir()\n",
    "        bronze_obj = InvoiceBronze()\n",
    "        BSquery = bronze_obj.launcher()\n",
    "\n",
    "        silver_obj = InvoiceSilver()\n",
    "        SSquery = silver_obj.launcher()\n",
    "\n",
    "        print('\\nTesting invoices_1.json file:')\n",
    "        self.copying_files(file_name = 'invoices_1.json')\n",
    "        print('Sleeping for 10sec...', end='')\n",
    "        time.sleep(10)\n",
    "        print('Done.')\n",
    "        print('Testing bronze layer: ', end='')\n",
    "        self.assert_tables('invoice_silver_table', 501)\n",
    "        print('Testing silver layer: ', end='')\n",
    "        self.assert_tables('invoice_gold_table', 1253)\n",
    "\n",
    "        print('\\nTesting invoices_2.json file:')\n",
    "        self.copying_files(file_name = 'invoices_2.json')\n",
    "        print('Sleeping for 10sec...', end='')\n",
    "        time.sleep(10)\n",
    "        print('Done.')\n",
    "        print('Testing bronze layer: ', end='')\n",
    "        self.assert_tables('invoice_silver_table', 1001)\n",
    "        print('Testing silver layer: ', end='')\n",
    "        self.assert_tables('invoice_gold_table', 2510)\n",
    "\n",
    "        print('\\nTesting invoices_3.json file:')\n",
    "        self.copying_files(file_name = 'invoices_3.json')\n",
    "        print('Sleeping for 10sec...', end='')\n",
    "        time.sleep(10)\n",
    "        print('Done.')\n",
    "        print('Testing bronze layer: ', end='')\n",
    "        self.assert_tables('invoice_silver_table', 1591)\n",
    "        print('Testing silver layer: ', end='')\n",
    "        self.assert_tables('invoice_gold_table', 3994)\n",
    "\n",
    "        print('\\nTesting invoices_4.json file:')\n",
    "        self.copying_files(file_name = 'invoices_4.json')\n",
    "        print('Sleeping for 10sec...', end='')\n",
    "        time.sleep(10)\n",
    "        print('Done.')\n",
    "        print('Testing bronze layer: ', end='')\n",
    "        self.assert_tables('invoice_silver_table', 1601)\n",
    "        print('Testing silver layer: ', end='')\n",
    "        self.assert_tables('invoice_gold_table', 4016)\n",
    "        \n",
    "        ls=['invoices_1.json', 'invoices_2.json', 'invoices_3.json']\n",
    "        print('\\nTesting archive files:', end='')\n",
    "        for i in dbutils.fs.ls(f'{self.invoice_dir}/data/archive/{self.invoice_dir}/data/bronze'):\n",
    "            assert i[1] in ls, f'Archive the {file} is failed.'\n",
    "        print('Done.')\n",
    "\n",
    "        BSquery.stop()\n",
    "        SSquery.stop()"
   ]
  },
  {
   "cell_type": "code",
   "execution_count": 0,
   "metadata": {
    "application/vnd.databricks.v1+cell": {
     "cellMetadata": {
      "byteLimit": 2048000,
      "rowLimit": 10000
     },
     "inputWidgets": {},
     "nuid": "30dfda31-e6b3-4894-9674-df0500bf0e8f",
     "showTitle": false,
     "tableResultSettingsMap": {},
     "title": ""
    }
   },
   "outputs": [
    {
     "output_type": "stream",
     "name": "stdout",
     "output_type": "stream",
     "text": [
      "Cleaning Directory...Done\nBronze ingestion stream started...Done.\nSilver Transformation stream started...Done.\n\nTesting invoices_1.json file:\nSleeping for 10sec...Done.\nTesting bronze layer: Passed.\nTesting silver layer: Passed.\n\nTesting invoices_2.json file:\nSleeping for 10sec...Done.\nTesting bronze layer: Passed.\nTesting silver layer: Passed.\n\nTesting invoices_3.json file:\nSleeping for 10sec...Done.\nTesting bronze layer: Passed.\nTesting silver layer: Passed.\n\nTesting invoices_4.json file:\nSleeping for 10sec...Done.\nTesting bronze layer: Passed.\nTesting silver layer: Passed.\n\nTesting archive files:Done.\n"
     ]
    }
   ],
   "source": [
    "obj = TestSuite()\n",
    "obj.test_case()"
   ]
  }
 ],
 "metadata": {
  "application/vnd.databricks.v1+notebook": {
   "computePreferences": null,
   "dashboards": [],
   "environmentMetadata": {
    "base_environment": "",
    "client": "1"
   },
   "language": "python",
   "notebookMetadata": {
    "pythonIndentUnit": 4
   },
   "notebookName": "TestSuit_for_medallion_architecture",
   "widgets": {}
  }
 },
 "nbformat": 4,
 "nbformat_minor": 0
}
