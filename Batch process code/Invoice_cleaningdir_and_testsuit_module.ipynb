{
 "cells": [
  {
   "cell_type": "code",
   "execution_count": 0,
   "metadata": {
    "application/vnd.databricks.v1+cell": {
     "cellMetadata": {
      "byteLimit": 2048000,
      "rowLimit": 10000
     },
     "inputWidgets": {},
     "nuid": "2375538d-e629-428f-b26a-2f64b8317f80",
     "showTitle": false,
     "tableResultSettingsMap": {},
     "title": ""
    }
   },
   "outputs": [],
   "source": [
    "%run ./Invoice_json_streaming_module"
   ]
  },
  {
   "cell_type": "code",
   "execution_count": 0,
   "metadata": {
    "application/vnd.databricks.v1+cell": {
     "cellMetadata": {
      "byteLimit": 2048000,
      "rowLimit": 10000
     },
     "inputWidgets": {},
     "nuid": "1f90c602-6543-4ac1-a139-981d23a84ded",
     "showTitle": false,
     "tableResultSettingsMap": {},
     "title": ""
    }
   },
   "outputs": [],
   "source": [
    "class TestSuite:\n",
    "\n",
    "    def __init__(self):\n",
    "        self.invoice_dir = '/FileStore/invoices'\n",
    "    \n",
    "    def cleaning_dir(self):\n",
    "        print('Cleaning Directory...', end='')\n",
    "        spark.sql('drop table if exists invoice_table')\n",
    "        dbutils.fs.rm(f'{self.invoice_dir}/incoming', recurse=True)\n",
    "        dbutils.fs.rm(f'{self.invoice_dir}/checkpoint', recurse=True)\n",
    "        dbutils.fs.rm('/user/hive/warehouse/invoice_table', recurse=True)\n",
    "        dbutils.fs.mkdirs(f'{self.invoice_dir}/incoming')\n",
    "        print('Done')\n",
    "    \n",
    "    def copying_files(self, file_name):\n",
    "        dbutils.fs.cp(f'{self.invoice_dir}/landing/{file_name}', f'{self.invoice_dir}/incoming', recurse=True)\n",
    "    \n",
    "    def test_case(self):\n",
    "        self.cleaning_dir()\n",
    "        invoice_obj = Invoice()\n",
    "\n",
    "        print('Testcase 1:')\n",
    "        self.copying_files(file_name = 'invoices_1.json')\n",
    "        invoice_obj.launcher()\n",
    "        val = spark.sql('select count(*) from invoice_table').collect()[0][0]\n",
    "        assert val==1253, f'Testcase 1 failed, returned value is {val}'\n",
    "        print('Passed.\\n')\n",
    "\n",
    "        print('Testcase 2:')\n",
    "        self.copying_files(file_name = 'invoices_2.json')\n",
    "        invoice_obj.launcher()\n",
    "        val = spark.sql('select count(*) from invoice_table').collect()[0][0]\n",
    "        assert val==3763, f'Testcase 2 failed, returned value is {val}'\n",
    "        print('Passed.\\n')\n",
    "\n",
    "        print('Testcase 3:')\n",
    "        self.copying_files(file_name = 'invoices_4.json')\n",
    "        invoice_obj.launcher()\n",
    "        val = spark.sql('select count(*) from invoice_table').collect()[0][0]\n",
    "        assert val==6295, f'Testcase 3 failed, returned value is {val}'\n",
    "        print('Passed.')"
   ]
  },
  {
   "cell_type": "code",
   "execution_count": 0,
   "metadata": {
    "application/vnd.databricks.v1+cell": {
     "cellMetadata": {
      "byteLimit": 2048000,
      "rowLimit": 10000
     },
     "inputWidgets": {},
     "nuid": "5f20fe96-f684-491d-ab7a-adef88fee827",
     "showTitle": false,
     "tableResultSettingsMap": {},
     "title": ""
    }
   },
   "outputs": [
    {
     "output_type": "stream",
     "name": "stdout",
     "output_type": "stream",
     "text": [
      "Cleaning Directory...Done\nTestcase 1:\nInvoice Batch load started...Done.\nPassed.\n\nTestcase 2:\nInvoice Batch load started...Done.\nPassed.\n\nTestcase 3:\nInvoice Batch load started...Done.\nPassed.\n"
     ]
    }
   ],
   "source": [
    "obj = TestSuite()\n",
    "obj.test_case()"
   ]
  }
 ],
 "metadata": {
  "application/vnd.databricks.v1+notebook": {
   "computePreferences": null,
   "dashboards": [],
   "environmentMetadata": null,
   "language": "python",
   "notebookMetadata": {
    "mostRecentlyExecutedCommandWithImplicitDF": {
     "commandId": 1423443117875119,
     "dataframes": [
      "_sqldf"
     ]
    },
    "pythonIndentUnit": 4
   },
   "notebookName": "Invoice_cleaningdir_and_testsuit_module",
   "widgets": {}
  }
 },
 "nbformat": 4,
 "nbformat_minor": 0
}
