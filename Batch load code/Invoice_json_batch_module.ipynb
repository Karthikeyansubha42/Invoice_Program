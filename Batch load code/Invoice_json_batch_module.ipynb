{
 "cells": [
  {
   "cell_type": "code",
   "execution_count": 0,
   "metadata": {
    "application/vnd.databricks.v1+cell": {
     "cellMetadata": {
      "byteLimit": 2048000,
      "rowLimit": 10000
     },
     "inputWidgets": {},
     "nuid": "855bfe1f-6f5c-4eaa-8460-02c717b48e89",
     "showTitle": false,
     "tableResultSettingsMap": {},
     "title": ""
    }
   },
   "outputs": [],
   "source": [
    "from pyspark.sql.types import StructType, StructField, IntegerType, StringType, DoubleType, ArrayType, LongType\n",
    "from pyspark.sql.functions import explode\n",
    "\n",
    "class Invoice:\n",
    "\n",
    "    def __init__(self):\n",
    "        self.invoice_dir = '/FileStore/invoices'\n",
    "        self.schema = StructType(\n",
    "                            [\n",
    "                                StructField('InvoiceNumber', StringType()),\n",
    "                                StructField('CreatedTime', LongType()),\n",
    "                                StructField('StoreID', StringType()),\n",
    "                                StructField('PosID', StringType()),\n",
    "                                StructField('CashierID', StringType()),\n",
    "                                StructField('CustomerType', StringType()),\n",
    "                                StructField('CustomerCardNo', StringType()),\n",
    "                                StructField('TotalAmount', DoubleType()),\n",
    "                                StructField('NumberOfItems', IntegerType()),\n",
    "                                StructField('PaymentMethod', StringType()),\n",
    "                                StructField('TaxableAmount', DoubleType()),\n",
    "                                StructField('CGST', DoubleType()),\n",
    "                                StructField('SGST', DoubleType()),\n",
    "                                StructField('CESS', DoubleType()),\n",
    "                                StructField('DeliveryType', StringType()),\n",
    "                                StructField('DeliveryAddress', StructType(\n",
    "                                    [\n",
    "                                        StructField('AddressLine', StringType()),\n",
    "                                        StructField('City', StringType()),\n",
    "                                        StructField('State', StringType()),\n",
    "                                        StructField('PinCode', StringType()),\n",
    "                                        StructField('ContactNumber', StringType())\n",
    "                                    ]), True),\n",
    "                                StructField('InvoiceLineItems', ArrayType(\n",
    "                                    StructType(\n",
    "                                        [\n",
    "                                            StructField('ItemCode', StringType()),\n",
    "                                            StructField('ItemDescription', StringType()),\n",
    "                                            StructField('ItemPrice', DoubleType()),\n",
    "                                            StructField('ItemQty', IntegerType()),\n",
    "                                            StructField('TotalValue', DoubleType())\n",
    "                                        ]\n",
    "                                    )\n",
    "                                ))])\n",
    "    \n",
    "    def get_raw_data(self):\n",
    "        return (spark.read.format('json').schema(self.schema)\\\n",
    "                             .load(f'{self.invoice_dir}/incoming'))\n",
    "\n",
    "    def apply_transformation(self, df):\n",
    "        return (df.withColumn('InvoiceLineItems',explode(df.InvoiceLineItems)).select(\n",
    "            \"InvoiceNumber\", \"CreatedTime\", \"StoreID\", \"PosID\", \"CashierID\", \"CustomerType\", \"CustomerCardNo\", \"TotalAmount\", \"NumberOfItems\", \"PaymentMethod\", \"TaxableAmount\", \"CGST\", \"SGST\", \"CESS\", \n",
    "            \"DeliveryType\", \"DeliveryAddress.AddressLine\", \"DeliveryAddress.City\", \"DeliveryAddress.State\",\n",
    "            \"DeliveryAddress.PinCode\", \"DeliveryAddress.ContactNumber\", \"InvoiceLineItems.ItemCode\", \n",
    "            \"InvoiceLineItems.ItemDescription\", \"InvoiceLineItems.ItemPrice\", \"InvoiceLineItems.ItemQty\", \"InvoiceLineItems.TotalValue\"))\n",
    "    \n",
    "    def sink(self, df):\n",
    "        return (df.write.format('delta').mode('append').saveAsTable('invoice_table'))\n",
    "    \n",
    "    def launcher(self):\n",
    "        print('Invoice Batch load started...',end='')\n",
    "        raw_df = self.get_raw_data()\n",
    "        trans_df = self.apply_transformation(raw_df)\n",
    "        self.sink(trans_df)\n",
    "        print('Done.')\n",
    "    "
   ]
  }
 ],
 "metadata": {
  "application/vnd.databricks.v1+notebook": {
   "computePreferences": null,
   "dashboards": [],
   "environmentMetadata": null,
   "language": "python",
   "notebookMetadata": {
    "pythonIndentUnit": 4
   },
   "notebookName": "Invoice_json_streaming_module",
   "widgets": {}
  }
 },
 "nbformat": 4,
 "nbformat_minor": 0
}
